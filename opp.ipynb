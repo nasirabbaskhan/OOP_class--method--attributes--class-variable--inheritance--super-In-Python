{
 "cells": [
  {
   "cell_type": "markdown",
   "metadata": {},
   "source": [
    "# OOP ( Object Oriented Programming)\n",
    "* class\n",
    "   * method\n",
    "      * first argument must be additional variable (self, this, or, anything else)\n",
    "    * attributes \n",
    "      * connect with individual object\n",
    "    * class variable\n",
    "      * this value is use for all objects\n",
    "        * calling method is `objectName.class_variable`\n",
    "      \n",
    "    * constructor\n",
    "       * def ``` __init__```(self,argu1,argu2)\n",
    "\n",
    "## syntex of class\n",
    "```\n",
    "class  ClassName():\n",
    "    pass\n",
    "```"
   ]
  },
  {
   "cell_type": "code",
   "execution_count": 7,
   "metadata": {},
   "outputs": [
    {
     "name": "stdout",
     "output_type": "stream",
     "text": [
      "Techer id is 3 \n",
      "Teacher name is Nasir\n"
     ]
    }
   ],
   "source": [
    "class Teacher(): # class Name\n",
    "    def __init__(self,teacher_name:str,teacher_id:int) -> None: # constructor\n",
    "        self.id= teacher_id # attributes\n",
    "        self.name= teacher_name\n",
    "        \n",
    "obj1= Teacher(\"nasir\",3) #object\n",
    "        \n",
    "print(f\"Techer id is {obj1.id} \\nTeacher name is {obj1.name.capitalize()}\")\n",
    "    "
   ]
  },
  {
   "cell_type": "code",
   "execution_count": 19,
   "metadata": {},
   "outputs": [
    {
     "name": "stdout",
     "output_type": "stream",
     "text": [
      "My teacher information is here:\n",
      "My teacher id is 1\n",
      "My teacher Name is sir Zia\n",
      "sir Zia's education is BS Information Technology\n",
      "sir Zia is teaching Generative AI\n",
      "sir Zia can speak Generative AI\n"
     ]
    }
   ],
   "source": [
    "class TeacherClass():\n",
    "    def __init__(this,teacher_id:int,teacher_name:str) -> None:\n",
    "        this.teacher_id=teacher_id\n",
    "        this.teacher_name= teacher_name\n",
    "        this.education= \"BS Information Technology\"\n",
    "        \n",
    "    def teaching(self,subject:str): # method\n",
    "        print(f\"{self.teacher_name} is teaching {subject}\")\n",
    "        \n",
    "    def speak(self,word:str): # method\n",
    "        print(f\"{self.teacher_name} can speak {word}\")\n",
    "        \n",
    "Techer_obj:TeacherClass= TeacherClass( 1,\"sir Zia\")\n",
    "print(\"My teacher information is here:\")\n",
    "print(f\"My teacher id is {Techer_obj.teacher_id}\\nMy teacher Name is {Techer_obj.teacher_name}\")\n",
    "print(f\"{Techer_obj.teacher_name}'s education is {Techer_obj.education}\")\n",
    "Techer_obj.teaching(\"Generative AI\")\n",
    "Techer_obj.speak(\"Generative AI\")"
   ]
  },
  {
   "cell_type": "markdown",
   "metadata": {},
   "source": [
    "## class variable\n",
    "* this value is use for all objects\n",
    "* calling method is\n",
    "     * `objectName.class_variable`\n",
    "     * `ClassName.class_variable`"
   ]
  },
  {
   "cell_type": "code",
   "execution_count": 43,
   "metadata": {},
   "outputs": [
    {
     "name": "stdout",
     "output_type": "stream",
     "text": [
      "Here obj1 data:\n",
      "1\n",
      "nasir\n",
      "\n",
      "        Teacher Name is nasir\n",
      "        our help lin no is 0303-6702180 # class variable called by class name\n",
      "        \n",
      "        \n",
      "3\n",
      "0303-6702180\n",
      "\n",
      "Here obj2 data:\n",
      "2\n",
      "Qasim\n",
      "3\n",
      "0303-6702180\n",
      "\n",
      "Here obj3 data:\n",
      "3\n",
      "aneela\n",
      "3\n",
      "0303-6702180\n",
      "3\n",
      "0303-6702180\n"
     ]
    }
   ],
   "source": [
    "class Teacher(): # class Name\n",
    "    counter :int= 0 #clss_varible 1\n",
    "    help_line:str =\"0303-6702180\" #clss_varible 2\n",
    "    def __init__(self,teacher_name:str,teacher_id:int) -> None: # constructor\n",
    "        self.id= teacher_id # attributes\n",
    "        self.name= teacher_name\n",
    "        Teacher.counter += 1 # show how much object are created\n",
    "        \n",
    "    def details(self)->None:\n",
    "        information= f\"\"\"\n",
    "        Teacher Name is {self.name}\n",
    "        our help lin no is {Teacher.help_line} # class variable called by class name\n",
    "        \n",
    "        \"\"\"\n",
    "        print(information)\n",
    "        \n",
    "obj1= Teacher(\"nasir\",1)\n",
    "obj2= Teacher(\"Qasim\",2)\n",
    "obj3= Teacher(\"aneela\",3)\n",
    "\n",
    "print(\"Here obj1 data:\")\n",
    "print(obj1.id)\n",
    "print(obj1.name)\n",
    "obj1.details()\n",
    "print(obj1.counter) # class variable\n",
    "print(obj1.help_line) # class variablev\n",
    "print(\"\\nHere obj2 data:\")\n",
    "print(obj2.id)\n",
    "print(obj2.name)\n",
    "print(obj2.counter) # class variable\n",
    "print(obj2.help_line) # class variable\n",
    "print(\"\\nHere obj3 data:\")\n",
    "print(obj3.id)\n",
    "print(obj3.name)\n",
    "print(obj3.counter) # class variable calling with objec\n",
    "print(obj3.help_line) # class variable\n",
    "\n",
    "print(Teacher.counter) # class variable calling with Class Name\n",
    "print(Teacher.help_line) # class variable calling with Class Name\n",
    "\n",
    "# here class varible are same for all objects"
   ]
  },
  {
   "cell_type": "markdown",
   "metadata": {},
   "source": [
    "# Inharitance"
   ]
  },
  {
   "cell_type": "code",
   "execution_count": 52,
   "metadata": {},
   "outputs": [
    {
     "name": "stdout",
     "output_type": "stream",
     "text": [
      "Brown\n",
      "black\n",
      "Parent class speaking English\n",
      "parent class is looking TV\n",
      "\n",
      "\n",
      "=== child object====\n",
      "\n",
      "\n",
      "Brown\n",
      "black\n",
      "Parent class speaking Hindi\n",
      "parent class is looking Filam\n"
     ]
    }
   ],
   "source": [
    "class Parants():\n",
    "    def __init__(self) -> None:\n",
    "        self.eye_color :str= \"Brown\"\n",
    "        self.hair_color:str= \"black\"\n",
    "    def speak(self,word:str)->None:\n",
    "        print(f\"Parent class speaking {word}\")\n",
    "        \n",
    "    def watching(self,watch:str)->None:\n",
    "        print(f\"parent class is looking {watch}\")\n",
    "        \n",
    "class Child(Parants):\n",
    "    pass\n",
    "\n",
    "## parent object\n",
    "obj1:Parants =Parants()\n",
    "print(obj1.eye_color)\n",
    "print(obj1.hair_color)\n",
    "obj1.speak(\"English\")\n",
    "obj1.watching(\"TV\")\n",
    "\n",
    "print(\"\\n\")\n",
    "print(\"=== child object====\")\n",
    "print(\"\\n\")\n",
    "## child object\n",
    "obj2:Child =Child()\n",
    "print(obj2.eye_color)\n",
    "print(obj2.hair_color)\n",
    "obj2.speak(\"Hindi\")\n",
    "obj2.watching(\"Filam\")"
   ]
  },
  {
   "cell_type": "code",
   "execution_count": 56,
   "metadata": {},
   "outputs": [
    {
     "name": "stdout",
     "output_type": "stream",
     "text": [
      "Brown\n",
      "black\n",
      "Parent class speaking English\n",
      "parent class is looking TV\n",
      "\n",
      "\n",
      "=== child object====\n",
      "\n",
      "\n",
      "Brown\n",
      "black\n",
      "Parent class speaking Hindi\n",
      "parent class is looking Filam\n",
      "Child method is teaching Generative AI\n"
     ]
    }
   ],
   "source": [
    "\n",
    "class Parants():\n",
    "    def __init__(self) -> None:\n",
    "        self.eye_color :str= \"Brown\"\n",
    "        self.hair_color:str= \"black\"\n",
    "    def speak(self,word:str)->None:\n",
    "        print(f\"Parent class speaking {word}\")\n",
    "        \n",
    "    def watching(self,watch:str)->None:\n",
    "        print(f\"parent class is looking {watch}\")\n",
    "        \n",
    "class Child(Parants):\n",
    "    def teaching(self,subject:str)->None:\n",
    "        print(f\"Child method is teaching {subject}\")\n",
    "    \n",
    "\n",
    " ## parent object\n",
    "obj1:Parants =Parants()\n",
    "print(obj1.eye_color)\n",
    "print(obj1.hair_color)\n",
    "obj1.speak(\"English\")\n",
    "obj1.watching(\"TV\")\n",
    "\n",
    "\n",
    "print(\"\\n\")\n",
    "print(\"=== child object====\")\n",
    "print(\"\\n\")\n",
    "## child object\n",
    "obj2:Child =Child()\n",
    "print(obj2.eye_color)\n",
    "print(obj2.hair_color)\n",
    "obj2.speak(\"Hindi\")\n",
    "obj2.watching(\"Filam\")\n",
    "obj2.teaching(\"Generative AI\")"
   ]
  },
  {
   "cell_type": "code",
   "execution_count": 15,
   "metadata": {},
   "outputs": [
    {
     "name": "stdout",
     "output_type": "stream",
     "text": [
      "web developer Nasir Khan BS IT Designing\n",
      "['pythen'] Qasim BS IT Designing\n"
     ]
    }
   ],
   "source": [
    "class Employee():\n",
    "    def __init__(self,name:str,education:str,department:str) -> None:\n",
    "        self.name :str = name\n",
    "        self.education : str = education\n",
    "        self.department :str = department\n",
    "        \n",
    "class Designer(Employee):\n",
    "    def __init__(self,title:str,name:str,education:str,department:str) -> None:\n",
    "        super().__init__(name,education,department)\n",
    "        self.title : str = title\n",
    "        \n",
    "class Developer(Employee):\n",
    "    def __init__(self, title:str,name:str,education:str,department:str) -> None:\n",
    "        super().__init__(name,education,department)\n",
    "        self.title:str = title\n",
    "        self.programming_skils:list[str] = [\"pythen\"]\n",
    "        \n",
    "designer1 :Designer= Designer(\"web developer\",\"Nasir Khan\",\"BS IT\",\"Designing\")\n",
    "\n",
    "developer1 :Developer= Developer(\"Pythomn Programmer\",\"Qasim\",\"BS IT\",\"Developement\")\n",
    "\n",
    "print(designer1.title, designer1.name , designer1.education, designer1.department)\n",
    "print(developer1.programming_skils,developer1.name, designer1.education, designer1.department)\n",
    " \n",
    " \n"
   ]
  },
  {
   "cell_type": "markdown",
   "metadata": {},
   "source": [
    "### Multiple Inheritance"
   ]
  },
  {
   "cell_type": "code",
   "execution_count": 2,
   "metadata": {},
   "outputs": [
    {
     "name": "stdout",
     "output_type": "stream",
     "text": [
      "Nasir Abbas\n",
      "Blue\n",
      "5 feet\n",
      "mother function speaking Urdu\n"
     ]
    }
   ],
   "source": [
    "class Mother:\n",
    "    def __init__(self,name:str) -> None:\n",
    "        self.name :str= name\n",
    "        self.eye_color:str = \"Blue\"\n",
    "        \n",
    "    def speaking(self, word:str)->str:\n",
    "        return f\"mother function speaking {word}\"\n",
    "        \n",
    "        \n",
    "class Father:\n",
    "    def __init__(self,name:str) -> None:\n",
    "        self.name:str = name\n",
    "        self.height:str = \"5 feet\"\n",
    "            \n",
    "class Child(Mother,Father):\n",
    "    def __init__(self, mother_name: str,father_name:str, child_name:str) -> None:\n",
    "        Mother.__init__(self,mother_name)\n",
    "        Father.__init__(self,mother_name)\n",
    "        self.child_name :str= child_name\n",
    "        \n",
    "child_obj:Child= Child(\"Hameed Mai\", \"Manzoor Hussain\", \"Nasir Abbas\")\n",
    "\n",
    "print(child_obj.child_name)\n",
    "print(child_obj.eye_color)\n",
    "print(child_obj.height)\n",
    "print(child_obj.speaking(\"Urdu\"))\n",
    "    "
   ]
  },
  {
   "cell_type": "code",
   "execution_count": 4,
   "metadata": {},
   "outputs": [
    {
     "name": "stdout",
     "output_type": "stream",
     "text": [
      "Nasir Abbas\n",
      "Blue\n",
      "5 feet\n",
      "Fater function speaking Urdu\n"
     ]
    }
   ],
   "source": [
    "class Mother:\n",
    "    def __init__(self,name:str) -> None:\n",
    "        self.name :str= name\n",
    "        self.eye_color:str = \"Blue\"\n",
    "        \n",
    "    def speaking(self, word:str)->str:\n",
    "        return f\"mother function speaking {word}\"\n",
    "        \n",
    "        \n",
    "class Father:\n",
    "    def __init__(self,name:str) -> None:\n",
    "        self.name:str = name\n",
    "        self.height:str = \"5 feet\"\n",
    "        \n",
    "    def speaking(self, word:str)->str:\n",
    "        return f\"Fater function speaking {word}\"\n",
    "            \n",
    "class Child(Father, Mother): # here speaking meathed of  Father will bcz this is nearest to Child class \n",
    "    def __init__(self, mother_name: str,father_name:str, child_name:str) -> None:\n",
    "        Mother.__init__(self,mother_name)\n",
    "        Father.__init__(self,mother_name)\n",
    "        self.child_name :str= child_name\n",
    "        \n",
    "child_obj:Child= Child(\"Hameed Mai\", \"Manzoor Hussain\", \"Nasir Abbas\")\n",
    "\n",
    "print(child_obj.child_name)\n",
    "print(child_obj.eye_color)\n",
    "print(child_obj.height)\n",
    "print(child_obj.speaking(\"Urdu\"))\n",
    "    "
   ]
  },
  {
   "cell_type": "markdown",
   "metadata": {},
   "source": [
    "##  Function Overloading\n",
    "Function overriding means multiple functions  with same name but have different signature (arguments) and behave multple ways accordiing to their signature"
   ]
  },
  {
   "cell_type": "code",
   "execution_count": 10,
   "metadata": {},
   "outputs": [
    {
     "name": "stdout",
     "output_type": "stream",
     "text": [
      "5\n",
      "4.8\n",
      "hello55\n"
     ]
    }
   ],
   "source": [
    "from typing import Union, overload\n",
    "\n",
    "@overload \n",
    "def add( x:int, y:int)-> int:\n",
    "    ...\n",
    "        \n",
    "@overload    \n",
    "def add(x:float, y:float)-> float:\n",
    "    ...\n",
    "    \n",
    "@overload   \n",
    "def add( x:str, y:str)->str:\n",
    "    ...\n",
    "\n",
    "def add( x:Union[int,float,str], y:Union[int,float,str])-> Union[int,float,str]:\n",
    "    if isinstance(x,int) and isinstance(y,int):\n",
    "        return x + y\n",
    "    elif isinstance(x,float) and isinstance(y,float):\n",
    "        return x + y\n",
    "    elif isinstance(x,str) and isinstance(y,str):\n",
    "        return x + y\n",
    "    else:\n",
    "        raise TypeError(\"Invalid argument types! \")\n",
    "        \n",
    "#usage example\n",
    "\n",
    "result1= add(2,3)\n",
    "result2= add(2.5,2.3)\n",
    "result3= add(\"hello\",\"55\")\n",
    "print(result1)\n",
    "print(result2)\n",
    "print(result3)\n",
    "         "
   ]
  },
  {
   "cell_type": "markdown",
   "metadata": {},
   "source": [
    "## Method Overloading\n",
    "Method overriding means multiple methods in class with same name but have different signature (arguments) and behave multple ways accordiing to their signature\n",
    "\n",
    "```Method Overloading used in only classes ```"
   ]
  },
  {
   "cell_type": "code",
   "execution_count": 18,
   "metadata": {},
   "outputs": [
    {
     "name": "stdout",
     "output_type": "stream",
     "text": [
      "11\n",
      "8.7\n",
      "nasirabbas\n"
     ]
    }
   ],
   "source": [
    "from typing import Union, overload\n",
    "\n",
    "class Adher:\n",
    "    @overload \n",
    "    def add(self, x:int, y:int)-> int:\n",
    "        ...\n",
    "          \n",
    "    @overload    \n",
    "    def add(self, x:float, y:float)-> float:\n",
    "        ...\n",
    "        \n",
    "    @overload   \n",
    "    def add(self, x:str, y:str)->str:\n",
    "        ...\n",
    "\n",
    "    def add(self, x:Union[int,float,str], y:Union[int,float,str]):\n",
    "        if isinstance(x,int) and isinstance(y,int):\n",
    "            return x + y\n",
    "        elif isinstance(x,float) and isinstance(y,float):\n",
    "            return x + y\n",
    "        elif isinstance(x,str) and isinstance(y,str):\n",
    "            return x + y\n",
    "        else:\n",
    "            raise TypeError(\"Invalid argument types! \")\n",
    "        \n",
    "#usage example\n",
    "adder = Adher()\n",
    "result1= adder.add(5,6)\n",
    "result2= adder.add(6.4,2.3)\n",
    "result3= adder.add(\"nasir\",\"abbas\")\n",
    "print(result1)\n",
    "print(result2)\n",
    "print(result3)\n",
    "         "
   ]
  },
  {
   "cell_type": "markdown",
   "metadata": {},
   "source": [
    "##  Overriding and polymorpgism\n",
    "overriding mean a parent method with same name difne in chiled class"
   ]
  },
  {
   "cell_type": "code",
   "execution_count": 9,
   "metadata": {},
   "outputs": [
    {
     "name": "stdout",
     "output_type": "stream",
     "text": [
      "Bird is eating bred\n",
      "Animal is eating grass\n",
      "Bird is eating food\n"
     ]
    }
   ],
   "source": [
    "class Animal():\n",
    "    def eating(self,food:str)->None:\n",
    "        print(f\"Animal is eating {food}\")\n",
    "        \n",
    "class Bird(Animal):\n",
    "    def eating(self,food:str)->None:\n",
    "        print(f\"Bird is eating {food}\")\n",
    "        \n",
    "bird:Bird= Bird()\n",
    "bird.eating(\"bred\")\n",
    "\n",
    "animal:Animal= Animal()\n",
    "animal.eating(\"grass\")\n",
    "\n",
    "## polymorphysm\n",
    "\n",
    "animal1: Animal = Bird()\n",
    "animal1.eating(\"food\")\n",
    "\n",
    "\n",
    "\n",
    "\n",
    "    "
   ]
  },
  {
   "cell_type": "markdown",
   "metadata": {},
   "source": [
    "## polymorphysim"
   ]
  },
  {
   "cell_type": "code",
   "execution_count": 19,
   "metadata": {},
   "outputs": [
    {
     "name": "stdout",
     "output_type": "stream",
     "text": [
      "Bird is eating food\n",
      "<class '__main__.Bird'>\n"
     ]
    }
   ],
   "source": [
    "animal1: Animal = Bird()\n",
    "animal1.eating(\"food\")\n",
    "print(type(animal1))"
   ]
  },
  {
   "cell_type": "markdown",
   "metadata": {},
   "source": [
    "## Static method\n",
    " * static method belong to class just like class variable\n",
    " * they call with ClaaName  and do not need to creation of object"
   ]
  },
  {
   "cell_type": "code",
   "execution_count": 2,
   "metadata": {},
   "outputs": [
    {
     "name": "stdout",
     "output_type": "stream",
     "text": [
      "31\n",
      "12\n"
     ]
    }
   ],
   "source": [
    "class Mathoperation:\n",
    "    \n",
    "    @staticmethod  # this is static method for calling object is not required\n",
    "    def add(x:int,y:int)->int:\n",
    "        return x + y\n",
    "    @staticmethod # this is static method for calling object is not required\n",
    "    def multiply(x:int,y:int)-> int:\n",
    "        return x * y\n",
    "    \n",
    "# using the stativ method\n",
    "\n",
    "result_add= Mathoperation.add(28,3)\n",
    "print(result_add)\n",
    "result_multiply= Mathoperation.multiply(4,3)\n",
    "print(result_multiply)"
   ]
  },
  {
   "cell_type": "code",
   "execution_count": 3,
   "metadata": {},
   "outputs": [
    {
     "name": "stdout",
     "output_type": "stream",
     "text": [
      "5\n",
      "12\n",
      "2.0\n"
     ]
    }
   ],
   "source": [
    "class Mathoperation:\n",
    "    \n",
    "    @staticmethod  # this is static method for calling object is not required\n",
    "    def add(x:int,y:int)->int:\n",
    "        return x + y\n",
    "    @staticmethod # this is static method for calling object is not required\n",
    "    def multiply(x:int,y:int)-> int:\n",
    "        return x * y\n",
    "    \n",
    "    def devision(self,x:int,y:int)->float:  # this is object method for calling object is must  required\n",
    "        return x / y\n",
    "    \n",
    "# using the stativ method\n",
    "result_add= Mathoperation.add(2,3)\n",
    "print(result_add)\n",
    "result_multiply= Mathoperation.multiply(4,3)\n",
    "\n",
    "print(result_multiply)\n",
    "\n",
    "#using object method\n",
    "obj= Mathoperation()\n",
    "result_div= obj.devision(10,5)\n",
    "\n",
    "\n",
    "print(result_div)"
   ]
  },
  {
   "cell_type": "markdown",
   "metadata": {},
   "source": [
    "# EveryThing is Object\n",
    "In python everything consider object.\n",
    "\n",
    "Means in Pythen ``` int, string, float, bolean, function , method,class and every thing is a object```\n",
    "\n",
    "This mean evrything have methods and function ( that can be apply on it ) that inherits from object cless "
   ]
  },
  {
   "cell_type": "code",
   "execution_count": 21,
   "metadata": {},
   "outputs": [
    {
     "data": {
      "text/plain": [
       "['__class__',\n",
       " '__delattr__',\n",
       " '__dir__',\n",
       " '__doc__',\n",
       " '__eq__',\n",
       " '__format__',\n",
       " '__ge__',\n",
       " '__getattribute__',\n",
       " '__getstate__',\n",
       " '__gt__',\n",
       " '__hash__',\n",
       " '__init__',\n",
       " '__init_subclass__',\n",
       " '__le__',\n",
       " '__lt__',\n",
       " '__ne__',\n",
       " '__new__',\n",
       " '__reduce__',\n",
       " '__reduce_ex__',\n",
       " '__repr__',\n",
       " '__setattr__',\n",
       " '__sizeof__',\n",
       " '__str__',\n",
       " '__subclasshook__']"
      ]
     },
     "execution_count": 21,
     "metadata": {},
     "output_type": "execute_result"
    }
   ],
   "source": [
    "# object have some function class taht are followos:\n",
    "dir(object)"
   ]
  },
  {
   "cell_type": "code",
   "execution_count": 20,
   "metadata": {},
   "outputs": [
    {
     "data": {
      "text/plain": [
       "['__abs__',\n",
       " '__add__',\n",
       " '__and__',\n",
       " '__bool__',\n",
       " '__ceil__',\n",
       " '__class__',\n",
       " '__delattr__',\n",
       " '__dir__',\n",
       " '__divmod__',\n",
       " '__doc__',\n",
       " '__eq__',\n",
       " '__float__',\n",
       " '__floor__',\n",
       " '__floordiv__',\n",
       " '__format__',\n",
       " '__ge__',\n",
       " '__getattribute__',\n",
       " '__getnewargs__',\n",
       " '__getstate__',\n",
       " '__gt__',\n",
       " '__hash__',\n",
       " '__index__',\n",
       " '__init__',\n",
       " '__init_subclass__',\n",
       " '__int__',\n",
       " '__invert__',\n",
       " '__le__',\n",
       " '__lshift__',\n",
       " '__lt__',\n",
       " '__mod__',\n",
       " '__mul__',\n",
       " '__ne__',\n",
       " '__neg__',\n",
       " '__new__',\n",
       " '__or__',\n",
       " '__pos__',\n",
       " '__pow__',\n",
       " '__radd__',\n",
       " '__rand__',\n",
       " '__rdivmod__',\n",
       " '__reduce__',\n",
       " '__reduce_ex__',\n",
       " '__repr__',\n",
       " '__rfloordiv__',\n",
       " '__rlshift__',\n",
       " '__rmod__',\n",
       " '__rmul__',\n",
       " '__ror__',\n",
       " '__round__',\n",
       " '__rpow__',\n",
       " '__rrshift__',\n",
       " '__rshift__',\n",
       " '__rsub__',\n",
       " '__rtruediv__',\n",
       " '__rxor__',\n",
       " '__setattr__',\n",
       " '__sizeof__',\n",
       " '__str__',\n",
       " '__sub__',\n",
       " '__subclasshook__',\n",
       " '__truediv__',\n",
       " '__trunc__',\n",
       " '__xor__',\n",
       " 'as_integer_ratio',\n",
       " 'bit_count',\n",
       " 'bit_length',\n",
       " 'conjugate',\n",
       " 'denominator',\n",
       " 'from_bytes',\n",
       " 'imag',\n",
       " 'is_integer',\n",
       " 'numerator',\n",
       " 'real',\n",
       " 'to_bytes']"
      ]
     },
     "execution_count": 20,
     "metadata": {},
     "output_type": "execute_result"
    }
   ],
   "source": [
    "a :int =5 \n",
    "dir(a) # int is object becase these have following object functions\n"
   ]
  },
  {
   "cell_type": "code",
   "execution_count": 22,
   "metadata": {},
   "outputs": [
    {
     "data": {
      "text/plain": [
       "['__add__',\n",
       " '__class__',\n",
       " '__contains__',\n",
       " '__delattr__',\n",
       " '__dir__',\n",
       " '__doc__',\n",
       " '__eq__',\n",
       " '__format__',\n",
       " '__ge__',\n",
       " '__getattribute__',\n",
       " '__getitem__',\n",
       " '__getnewargs__',\n",
       " '__getstate__',\n",
       " '__gt__',\n",
       " '__hash__',\n",
       " '__init__',\n",
       " '__init_subclass__',\n",
       " '__iter__',\n",
       " '__le__',\n",
       " '__len__',\n",
       " '__lt__',\n",
       " '__mod__',\n",
       " '__mul__',\n",
       " '__ne__',\n",
       " '__new__',\n",
       " '__reduce__',\n",
       " '__reduce_ex__',\n",
       " '__repr__',\n",
       " '__rmod__',\n",
       " '__rmul__',\n",
       " '__setattr__',\n",
       " '__sizeof__',\n",
       " '__str__',\n",
       " '__subclasshook__',\n",
       " 'capitalize',\n",
       " 'casefold',\n",
       " 'center',\n",
       " 'count',\n",
       " 'encode',\n",
       " 'endswith',\n",
       " 'expandtabs',\n",
       " 'find',\n",
       " 'format',\n",
       " 'format_map',\n",
       " 'index',\n",
       " 'isalnum',\n",
       " 'isalpha',\n",
       " 'isascii',\n",
       " 'isdecimal',\n",
       " 'isdigit',\n",
       " 'isidentifier',\n",
       " 'islower',\n",
       " 'isnumeric',\n",
       " 'isprintable',\n",
       " 'isspace',\n",
       " 'istitle',\n",
       " 'isupper',\n",
       " 'join',\n",
       " 'ljust',\n",
       " 'lower',\n",
       " 'lstrip',\n",
       " 'maketrans',\n",
       " 'partition',\n",
       " 'removeprefix',\n",
       " 'removesuffix',\n",
       " 'replace',\n",
       " 'rfind',\n",
       " 'rindex',\n",
       " 'rjust',\n",
       " 'rpartition',\n",
       " 'rsplit',\n",
       " 'rstrip',\n",
       " 'split',\n",
       " 'splitlines',\n",
       " 'startswith',\n",
       " 'strip',\n",
       " 'swapcase',\n",
       " 'title',\n",
       " 'translate',\n",
       " 'upper',\n",
       " 'zfill']"
      ]
     },
     "execution_count": 22,
     "metadata": {},
     "output_type": "execute_result"
    }
   ],
   "source": [
    "name :str =\"nasir\" \n",
    "dir(name) # stringis object becase thes have following object functions\n"
   ]
  },
  {
   "cell_type": "code",
   "execution_count": 29,
   "metadata": {},
   "outputs": [
    {
     "name": "stdout",
     "output_type": "stream",
     "text": [
      "human is eating baryani\n"
     ]
    },
    {
     "data": {
      "text/plain": [
       "['__class__',\n",
       " '__delattr__',\n",
       " '__dict__',\n",
       " '__dir__',\n",
       " '__doc__',\n",
       " '__eq__',\n",
       " '__format__',\n",
       " '__ge__',\n",
       " '__getattribute__',\n",
       " '__getstate__',\n",
       " '__gt__',\n",
       " '__hash__',\n",
       " '__init__',\n",
       " '__init_subclass__',\n",
       " '__le__',\n",
       " '__lt__',\n",
       " '__module__',\n",
       " '__ne__',\n",
       " '__new__',\n",
       " '__reduce__',\n",
       " '__reduce_ex__',\n",
       " '__repr__',\n",
       " '__setattr__',\n",
       " '__sizeof__',\n",
       " '__str__',\n",
       " '__subclasshook__',\n",
       " '__weakref__',\n",
       " 'eating']"
      ]
     },
     "execution_count": 29,
     "metadata": {},
     "output_type": "execute_result"
    }
   ],
   "source": [
    "class Human1(): # this class inherits  object functions in background so we can say class is object\n",
    "    def eating(self, food:str)->None:\n",
    "        print(f\"human is eating {food}\")\n",
    "        \n",
    "obj1:Human1= Human1()\n",
    "obj1.eating(\"baryani\")\n",
    "        \n",
    "        \n",
    "dir(obj1)\n",
    "\n",
    "        "
   ]
  },
  {
   "cell_type": "code",
   "execution_count": 30,
   "metadata": {},
   "outputs": [
    {
     "name": "stdout",
     "output_type": "stream",
     "text": [
      "human is eating chicken\n"
     ]
    },
    {
     "data": {
      "text/plain": [
       "['__class__',\n",
       " '__delattr__',\n",
       " '__dict__',\n",
       " '__dir__',\n",
       " '__doc__',\n",
       " '__eq__',\n",
       " '__format__',\n",
       " '__ge__',\n",
       " '__getattribute__',\n",
       " '__getstate__',\n",
       " '__gt__',\n",
       " '__hash__',\n",
       " '__init__',\n",
       " '__init_subclass__',\n",
       " '__le__',\n",
       " '__lt__',\n",
       " '__module__',\n",
       " '__ne__',\n",
       " '__new__',\n",
       " '__reduce__',\n",
       " '__reduce_ex__',\n",
       " '__repr__',\n",
       " '__setattr__',\n",
       " '__sizeof__',\n",
       " '__str__',\n",
       " '__subclasshook__',\n",
       " '__weakref__',\n",
       " 'eating']"
      ]
     },
     "execution_count": 30,
     "metadata": {},
     "output_type": "execute_result"
    }
   ],
   "source": [
    "class Human2(object):  # this class inherits  object functions so we can say class is object\n",
    "    def eating(self, food:str)->None:\n",
    "        print(f\"human is eating {food}\")\n",
    "        \n",
    "obj2:Human2 = Human2()\n",
    "obj2.eating(\"chicken\")\n",
    "\n",
    "dir(obj2)"
   ]
  }
 ],
 "metadata": {
  "kernelspec": {
   "display_name": "Python 3",
   "language": "python",
   "name": "python3"
  },
  "language_info": {
   "codemirror_mode": {
    "name": "ipython",
    "version": 3
   },
   "file_extension": ".py",
   "mimetype": "text/x-python",
   "name": "python",
   "nbconvert_exporter": "python",
   "pygments_lexer": "ipython3",
   "version": "3.12.3"
  }
 },
 "nbformat": 4,
 "nbformat_minor": 2
}
